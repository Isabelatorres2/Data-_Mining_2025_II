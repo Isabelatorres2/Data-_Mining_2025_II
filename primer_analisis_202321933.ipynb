{
  "nbformat": 4,
  "nbformat_minor": 0,
  "metadata": {
    "colab": {
      "provenance": [],
      "authorship_tag": "ABX9TyMU1dQhARJe6uR50GnDlVLc",
      "include_colab_link": true
    },
    "kernelspec": {
      "name": "python3",
      "display_name": "Python 3"
    },
    "language_info": {
      "name": "python"
    }
  },
  "cells": [
    {
      "cell_type": "markdown",
      "metadata": {
        "id": "view-in-github",
        "colab_type": "text"
      },
      "source": [
        "<a href=\"https://colab.research.google.com/github/Isabelatorres2/Data-_Mining_2025_II/blob/main/primer_analisis_202321933.ipynb\" target=\"_parent\"><img src=\"https://colab.research.google.com/assets/colab-badge.svg\" alt=\"Open In Colab\"/></a>"
      ]
    },
    {
      "cell_type": "code",
      "execution_count": null,
      "metadata": {
        "id": "d_N4p_YM1gLl"
      },
      "outputs": [],
      "source": [
        "asdasdasdasdasdasdasdasdasdasdasdasdasd"
      ]
    }
  ]
}